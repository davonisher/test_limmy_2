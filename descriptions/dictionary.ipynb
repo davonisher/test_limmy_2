{
 "cells": [
  {
   "cell_type": "code",
   "execution_count": 13,
   "id": "5eb20d4d",
   "metadata": {},
   "outputs": [
    {
     "name": "stdout",
     "output_type": "stream",
     "text": [
      "Definition of 'image analysis': Error: 404 - {\"title\":\"No Definitions Found\",\"message\":\"Sorry pal, we couldn't find definitions for the word you were looking for.\",\"resolution\":\"You can try the search again at later time or head to the web instead.\"}\n"
     ]
    }
   ],
   "source": [
    "import requests\n",
    "\n",
    "def get_word_definition(word):\n",
    "    url = f\"https://api.dictionaryapi.dev/api/v2/entries/en/{word}\"\n",
    "    response = requests.get(url)\n",
    "    if response.status_code == 200:\n",
    "        data = response.json()\n",
    "        # Extract the first definition from the first meaning\n",
    "        try:\n",
    "            meanings = data[0].get(\"meanings\", [])\n",
    "            if meanings:\n",
    "                definitions = meanings[0].get(\"definitions\", [])\n",
    "                if definitions:\n",
    "                    return definitions[0].get(\"definition\", \"No definition found.\")\n",
    "            return \"No definition found.\"\n",
    "        except (IndexError, KeyError, TypeError):\n",
    "            return \"Error parsing definition.\"\n",
    "    else:\n",
    "        return f\"Error: {response.status_code} - {response.text}\"\n",
    "\n",
    "# Example usage:\n",
    "word = \"image analysis\"\n",
    "definition = get_word_definition(word)\n",
    "print(f\"Definition of '{word}': {definition}\")\n"
   ]
  },
  {
   "cell_type": "code",
   "execution_count": null,
   "id": "c56c985d",
   "metadata": {},
   "outputs": [],
   "source": [
    "https://www.dictionaryapi.com/api/v3/references/thesaurus/json/umpire?key=your-api-key\n"
   ]
  }
 ],
 "metadata": {
  "kernelspec": {
   "display_name": "base",
   "language": "python",
   "name": "python3"
  },
  "language_info": {
   "codemirror_mode": {
    "name": "ipython",
    "version": 3
   },
   "file_extension": ".py",
   "mimetype": "text/x-python",
   "name": "python",
   "nbconvert_exporter": "python",
   "pygments_lexer": "ipython3",
   "version": "3.11.3"
  }
 },
 "nbformat": 4,
 "nbformat_minor": 5
}
